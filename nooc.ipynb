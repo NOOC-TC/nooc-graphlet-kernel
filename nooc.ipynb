{
 "cells": [
  {
   "cell_type": "code",
   "execution_count": 1,
   "metadata": {
    "pycharm": {
     "name": "#%%\n"
    }
   },
   "outputs": [],
   "source": [
    "import networkx as nx\n",
    "import numpy as np\n",
    "from grandiso import find_motifs"
   ]
  },
  {
   "cell_type": "code",
   "execution_count": 2,
   "metadata": {
    "pycharm": {
     "name": "#%%\n"
    }
   },
   "outputs": [],
   "source": [
    "def nb_samples_required(a, delta, epsilon):\n",
    "    return int(np.ceil(2 * (np.log(2) * a + np.log(1 / delta)) / (epsilon**2)))"
   ]
  },
  {
   "cell_type": "code",
   "execution_count": 54,
   "metadata": {
    "pycharm": {
     "name": "#%%\n"
    }
   },
   "outputs": [],
   "source": [
    "# Create all graphlets of size 3, 4, 5\n",
    "def build_graphlets(k):\n",
    "    if k == 3:\n",
    "        graphlets = [\n",
    "            np.zeros((3, 3)),\n",
    "            np.array([[0, 1, 0], [1, 0, 0], [0, 0, 0]]),\n",
    "            np.array([[0, 1, 0], [1, 0, 1], [0, 1, 0]]),\n",
    "            np.array([[0, 1, 0], [0, 0, 1], [1, 0, 0]])\n",
    "        ]\n",
    "    if k == 4:\n",
    "        graphlets = [\n",
    "            np.zeros((4,4)),\n",
    "            np.array([[0, 1, 0, 0],[1, 0, 0, 0],[0, 0, 0, 0],[0, 0, 0, 0]]),\n",
    "            np.array([[0, 1, 0, 0],[1, 0, 0, 0],[0, 0, 0, 1],[0, 0, 1, 0]]),\n",
    "            np.array([[0, 1, 1, 0],[1, 0, 0, 0],[1, 0, 0, 0],[0, 0, 0, 0]]),\n",
    "            np.array([[0, 1, 1, 0],[1, 0, 1, 0],[1, 1, 0, 0],[0, 0, 0, 0]]),\n",
    "            np.array([[0, 1, 1, 0],[1, 0, 0, 1],[1, 0, 0, 0],[0, 1, 0, 0]]),\n",
    "            np.array([[0, 1, 1, 0],[1, 0, 0, 1],[1, 0, 1, 0],[0, 1, 1, 0]]),\n",
    "            np.array([[0, 1, 1, 1],[1, 0, 0, 0],[1, 0, 0, 0],[1, 0, 0, 0]]),\n",
    "            np.array([[0, 1, 1, 1],[1, 0, 1, 0],[1, 1, 0, 0],[1, 0, 0, 0]]),\n",
    "            np.array([[0, 1, 1, 1],[1, 0, 1, 1],[1, 1, 0, 0],[1, 1, 0, 0]]),\n",
    "            np.array([[0, 1, 1, 1],[1, 0, 1, 1],[1, 1, 0, 1],[1, 1, 1, 0]])\n",
    "        ]\n",
    "        \n",
    "        \n",
    "        np.array([[0, 0, 0, 0, 0],[0, 0, 0, 0, 0],[0, 0, 0, 0, 0],[0, 0, 0, 0, 0],[0, 0, 0, 0, 0]]),\n",
    "        \n",
    "    if k == 5:\n",
    "        graphlets = [\n",
    "            np.zeros((5,5)),\n",
    "            np.array([[0, 1, 0, 0, 0],[1, 0, 0, 0, 0],[0, 0, 0, 0, 0],[0, 0, 0, 0, 0],[0, 0, 0, 0, 0]]), #2\n",
    "            np.array([[0, 1, 0, 0, 0],[1, 0, 1, 0, 0],[0, 1, 0, 0, 0],[0, 0, 0, 0, 0],[0, 0, 0, 0, 0]]), #3\n",
    "            np.array([[0, 1, 0, 0, 0],[1, 0, 0, 0, 0],[0, 0, 0, 1, 0],[0, 0, 1, 0, 0],[0, 0, 0, 0, 0]]), #4\n",
    "            np.array([[0, 1, 1, 1, 0],[1, 0, 0, 0, 0],[1, 0, 0, 0, 0],[1, 0, 0, 0, 0],[0, 0, 0, 0, 0]]), #5\n",
    "            np.array([[0, 1, 1, 0, 0],[1, 0, 1, 0, 0],[1, 1, 0, 0, 0],[0, 0, 0, 0, 0],[0, 0, 0, 0, 0]]), #6\n",
    "            np.array([[0, 1, 0, 0, 0],[1, 0, 1, 0, 0],[0, 1, 0, 1, 0],[0, 0, 1, 0, 0],[0, 0, 0, 0, 0]]), #7\n",
    "            np.array([[0, 1, 0, 0, 0],[1, 0, 1, 0, 0],[0, 1, 0, 0, 0],[0, 0, 0, 0, 1],[0, 0, 0, 1, 0]]), #8\n",
    "            np.array([[0, 1, 1, 1, 1],[1, 0, 0, 0, 0],[1, 0, 0, 0, 0],[1, 0, 0, 0, 0],[1, 0, 0, 0, 0]]), #9\n",
    "            np.array([[0, 1, 1, 1, 0],[1, 0, 1, 0, 0],[1, 1, 0, 0, 0],[1, 0, 0, 0, 0],[0, 0, 0, 0, 0]]), #10\n",
    "            np.array([[0, 1, 0, 0, 0],[1, 0, 1, 0, 0],[0, 1, 0, 1, 1],[0, 0, 1, 0, 0],[0, 0, 1, 0, 0]]), #11\n",
    "            np.array([[0, 1, 1, 0, 0],[1, 0, 1, 0, 0],[1, 1, 0, 0, 0],[0, 0, 0, 0, 1],[0, 0, 0, 1, 0]]), #12 \n",
    "            np.array([[0, 1, 0, 1, 0],[1, 0, 1, 0, 0],[0, 1, 0, 1, 0],[1, 0, 1, 0, 0],[0, 0, 0, 0, 0]]), #13\n",
    "            np.array([[0, 1, 0, 0, 0],[1, 0, 1, 0, 0],[0, 1, 0, 1, 0],[0, 0, 1, 0, 1],[0, 0, 0, 1, 0]]), #14\n",
    "            np.array([[0, 1, 1, 1, 1],[1, 0, 1, 0, 0],[1, 1, 0, 0, 0],[1, 0, 0, 0, 0],[1, 0, 0, 0, 0]]), #15\n",
    "            np.array([[0, 1, 1, 0, 1],[1, 0, 1, 0, 0],[1, 1, 0, 1, 0],[1, 0, 1, 0, 0],[0, 0, 0, 0, 0]]), #16\n",
    "            np.array([[0, 1, 1, 1, 0],[1, 0, 1, 0, 1],[1, 1, 0, 0, 0],[1, 0, 0, 0, 0],[0, 1, 0, 0, 0]]), #17\n",
    "            np.array([[0, 1, 1, 1, 0],[1, 0, 1, 0, 0],[1, 1, 0, 0, 0],[1, 0, 0, 0, 1],[0, 0, 0, 1, 0]]), #18\n",
    "            np.array([[0, 1, 0, 1, 1],[1, 0, 1, 0, 0],[0, 1, 0, 1, 0],[1, 0, 1, 0, 0],[1, 0, 0, 0, 0]]), #19\n",
    "            np.array([[0, 1, 0, 0, 1],[1, 0, 1, 0, 0],[0, 1, 0, 1, 0],[0, 0, 1, 0, 1],[1, 0, 0, 1, 0]]), #20\n",
    "            np.array([[0, 1, 1, 1, 1],[1, 0, 1, 0, 0],[1, 1, 0, 1, 0],[1, 0, 1, 0, 0],[1, 0, 0, 0, 0]]), #21\n",
    "            np.array([[0, 1, 1, 1, 1],[1, 0, 1, 0, 0],[1, 1, 0, 0, 0],[1, 0, 0, 0, 1],[1, 0, 0, 1, 0]]), #22\n",
    "            np.array([[0, 1, 3, 1, 0],[1, 0, 1, 1, 0],[1, 1, 0, 1, 0],[1, 1, 1, 0, 0],[0, 0, 0, 0, 0]]), #23\n",
    "            np.array([[0, 1, 0, 1, 1],[1, 0, 1, 1, 0],[0, 1, 0, 1, 0],[1, 1, 1, 0, 0],[1, 0, 0, 0, 0]]), #24\n",
    "            np.array([[0, 1, 0, 1, 1],[1, 0, 1, 0, 1],[0, 1, 0, 1, 0],[1, 0, 1, 0, 0],[1, 1, 0, 0, 0]]), #25\n",
    "            np.array([[0, 1, 0, 1, 1],[1, 0, 1, 0, 0],[0, 1, 0, 1, 1],[1, 0, 1, 0, 0],[1, 0, 1, 0, 0]]), #26\n",
    "            np.array([[0, 1, 1, 1, 1],[1, 0, 1, 0, 0],[1, 1, 0, 1, 1],[1, 0, 1, 0, 0],[1, 0, 1, 0, 0]]), #27\n",
    "            np.array([[0, 1, 3, 1, 0],[1, 0, 1, 1, 1],[1, 1, 0, 1, 0],[1, 1, 1, 0, 0],[0, 1, 0, 0, 0]]), #28\n",
    "            np.array([[0, 1, 1, 1, 1],[1, 0, 1, 1, 0],[1, 1, 0, 0, 0],[1, 1, 0, 0, 1],[1, 0, 0, 1, 0]]), #29\n",
    "            np.array([[0, 1, 1, 0, 1],[1, 0, 1, 1, 0],[1, 1, 0, 1, 0],[1, 0, 1, 0, 1],[1, 0, 0, 1, 0]]), #30\n",
    "            np.array([[0, 1, 1, 1, 1],[1, 0, 1, 0, 0],[1, 1, 0, 1, 1],[1, 0, 1, 0, 1],[1, 0, 1, 1, 0]]), #31\n",
    "            np.array([[0, 1, 0, 1, 1],[1, 0, 1, 0, 1],[0, 1, 0, 1, 1],[1, 0, 1, 0, 1],[1, 1, 1, 1, 0]]), #32\n",
    "            np.array([[0, 1, 1, 1, 1],[1, 0, 1, 1, 0],[1, 1, 0, 1, 1],[1, 1, 1, 0, 1],[1, 0, 1, 1, 0]]), #33\n",
    "            np.array([[0, 1, 1, 1, 1],[1, 0, 1, 1, 1],[1, 1, 0, 1, 1],[1, 1, 1, 0, 1],[1, 1, 1, 1, 0]]), #33\n",
    "        ]\n",
    "    \n",
    "    return [nx.from_numpy_matrix(m) for m in graphlets]"
   ]
  },
  {
   "cell_type": "code",
   "execution_count": 4,
   "metadata": {
    "pycharm": {
     "name": "#%%\n"
    }
   },
   "outputs": [],
   "source": [
    "def sample_subgraphs(G, k):\n",
    "    nodes = G.nodes()\n",
    "\n",
    "    return G.subgraph(np.random.choice(nodes, k, replace=False).tolist())"
   ]
  },
  {
   "cell_type": "code",
   "execution_count": 5,
   "metadata": {
    "pycharm": {
     "name": "#%%\n"
    }
   },
   "outputs": [],
   "source": [
    "def find_iso_graphlet(subgraph, graphlets, spectrum):\n",
    "    for i, graphlet in enumerate(graphlets):\n",
    "        if nx.is_isomorphic(subgraph, graphlet):\n",
    "            spectrum[i] += 1"
   ]
  },
  {
   "cell_type": "code",
   "execution_count": 49,
   "metadata": {
    "pycharm": {
     "name": "#%%\n"
    }
   },
   "outputs": [],
   "source": [
    "def estimate_spectrum(G, k, delta, epsilon):\n",
    "    graphlets = build_graphlets(k)\n",
    "    m = nb_samples_required(len(graphlets), delta, epsilon)\n",
    "    spectrum = np.zeros(len(graphlets))\n",
    "\n",
    "    for _ in range(m):\n",
    "        subgraph = sample_subgraphs(G, k)\n",
    "        find_iso_graphlet(subgraph, graphlets, spectrum)\n",
    "\n",
    "    #return spectrum / np.linalg.norm(spectrum) # to sum to 1 for kernel(G, G)\n",
    "    return spectrum / m"
   ]
  },
  {
   "cell_type": "code",
   "execution_count": 7,
   "metadata": {
    "pycharm": {
     "name": "#%%\n"
    }
   },
   "outputs": [],
   "source": [
    "def kernel(G1, G2, k, delta, epsilon):\n",
    "    spectrum1 = estimate_spectrum(G1, k, delta, epsilon)\n",
    "    spectrum2 = estimate_spectrum(G2, k, delta, epsilon)\n",
    "\n",
    "    return spectrum1.T @ spectrum2"
   ]
  },
  {
   "cell_type": "code",
   "execution_count": 61,
   "metadata": {
    "pycharm": {
     "name": "#%%\n"
    }
   },
   "outputs": [],
   "source": [
    "G = nx.fast_gnp_random_graph(100, 0.1)\n",
    "\n",
    "spectrum = estimate_spectrum(G, 5, 0.05, 0.05)"
   ]
  },
  {
   "cell_type": "code",
   "execution_count": 62,
   "metadata": {
    "pycharm": {
     "name": "#%%\n"
    }
   },
   "outputs": [
    {
     "data": {
      "text/plain": [
       "0.9999529433908992"
      ]
     },
     "execution_count": 62,
     "metadata": {},
     "output_type": "execute_result"
    }
   ],
   "source": [
    "sum(spectrum)"
   ]
  },
  {
   "cell_type": "code",
   "execution_count": 10,
   "metadata": {
    "pycharm": {
     "name": "#%%\n"
    }
   },
   "outputs": [
    {
     "data": {
      "text/plain": [
       "0.5902935573269605"
      ]
     },
     "execution_count": 10,
     "metadata": {},
     "output_type": "execute_result"
    }
   ],
   "source": [
    "kernel(G, G, 3, 0.05, 0.05)"
   ]
  },
  {
   "cell_type": "code",
   "execution_count": 36,
   "metadata": {},
   "outputs": [
    {
     "data": {
      "text/plain": [
       "(956, 924)"
      ]
     },
     "execution_count": 36,
     "metadata": {},
     "output_type": "execute_result"
    }
   ],
   "source": [
    "graphlet = nx.from_numpy_matrix(np.array([[0, 1, 0], [0, 0, 1], [1, 0, 0]]))\n",
    "motif1 = nx.Graph()\n",
    "motif1.add_node(\"A\")\n",
    "motif1.add_node(\"C\")\n",
    "motif1.add_edge(\"A\",\"C\")\n",
    "motif2 = nx.Graph()\n",
    "motif2.add_edge(\"A\", \"B\")\n",
    "motif2.add_edge(\"B\", \"C\")\n",
    "motif2.add_edge(\"C\", \"A\")\n",
    "\n",
    "find_motifs(motif1,G,count_only=True,isomorphisms_only=True),find_motifs(motif2,G,count_only=True,isomorphisms_only=True)\n",
    "\n"
   ]
  }
 ],
 "metadata": {
  "kernelspec": {
   "display_name": "Python 3",
   "language": "python",
   "name": "python3"
  },
  "language_info": {
   "codemirror_mode": {
    "name": "ipython",
    "version": 3
   },
   "file_extension": ".py",
   "mimetype": "text/x-python",
   "name": "python",
   "nbconvert_exporter": "python",
   "pygments_lexer": "ipython3",
   "version": "3.8.3"
  }
 },
 "nbformat": 4,
 "nbformat_minor": 1
}
