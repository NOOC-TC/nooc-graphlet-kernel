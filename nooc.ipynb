{
 "cells": [
  {
   "cell_type": "code",
   "execution_count": 1,
   "metadata": {
    "pycharm": {
     "name": "#%%\n"
    }
   },
   "outputs": [],
   "source": [
    "import networkx as nx\n",
    "import numpy as np\n",
    "from grandiso import find_motifs\n",
    "import matplotlib.pyplot as plt\n",
    "import scipy.special\n",
    "import time\n",
    "import json\n",
    "plt.rcParams[\"figure.figsize\"] = (12,8)\n",
    "plt.rcParams.update({'font.size': 12})"
   ]
  },
  {
   "cell_type": "markdown",
   "source": [
    "# Sampling and kernel"
   ],
   "metadata": {
    "collapsed": false,
    "pycharm": {
     "name": "#%% md\n"
    }
   }
  },
  {
   "cell_type": "code",
   "execution_count": 2,
   "metadata": {
    "pycharm": {
     "name": "#%%\n"
    }
   },
   "outputs": [],
   "source": [
    "def nb_samples_required(a, delta, epsilon):\n",
    "    return int(np.ceil(2 * (np.log(2) * a + np.log(1 / delta)) / (epsilon**2)))"
   ]
  },
  {
   "cell_type": "code",
   "execution_count": 3,
   "metadata": {
    "pycharm": {
     "name": "#%%\n"
    }
   },
   "outputs": [],
   "source": [
    "# Create all graphlets of size 3, 4, 5\n",
    "def build_graphlets(k):\n",
    "    if k == 3:\n",
    "        graphlets = [\n",
    "            np.zeros((3, 3)),\n",
    "            np.array([[0, 1, 0], [1, 0, 0], [0, 0, 0]]),\n",
    "            np.array([[0, 1, 0], [1, 0, 1], [0, 1, 0]]),\n",
    "            np.array([[0, 1, 0], [0, 0, 1], [1, 0, 0]])\n",
    "        ]\n",
    "    if k == 4:\n",
    "        graphlets = [\n",
    "            np.zeros((4,4)),\n",
    "            np.array([[0, 1, 0, 0],[1, 0, 0, 0],[0, 0, 0, 0],[0, 0, 0, 0]]),\n",
    "            np.array([[0, 1, 0, 0],[1, 0, 0, 0],[0, 0, 0, 1],[0, 0, 1, 0]]),\n",
    "            np.array([[0, 1, 1, 0],[1, 0, 0, 0],[1, 0, 0, 0],[0, 0, 0, 0]]),\n",
    "            np.array([[0, 1, 1, 0],[1, 0, 1, 0],[1, 1, 0, 0],[0, 0, 0, 0]]),\n",
    "            np.array([[0, 1, 1, 0],[1, 0, 0, 1],[1, 0, 0, 0],[0, 1, 0, 0]]),\n",
    "            np.array([[0, 1, 1, 0],[1, 0, 0, 1],[1, 0, 1, 0],[0, 1, 1, 0]]),\n",
    "            np.array([[0, 1, 1, 1],[1, 0, 0, 0],[1, 0, 0, 0],[1, 0, 0, 0]]),\n",
    "            np.array([[0, 1, 1, 1],[1, 0, 1, 0],[1, 1, 0, 0],[1, 0, 0, 0]]),\n",
    "            np.array([[0, 1, 1, 1],[1, 0, 1, 1],[1, 1, 0, 0],[1, 1, 0, 0]]),\n",
    "            np.array([[0, 1, 1, 1],[1, 0, 1, 1],[1, 1, 0, 1],[1, 1, 1, 0]])\n",
    "        ]\n",
    "        \n",
    "        \n",
    "        #np.array([[0, 0, 0, 0, 0],[0, 0, 0, 0, 0],[0, 0, 0, 0, 0],[0, 0, 0, 0, 0],[0, 0, 0, 0, 0]]),\n",
    "        \n",
    "    if k == 5:\n",
    "        graphlets = [\n",
    "            np.zeros((5,5)),\n",
    "            np.array([[0, 1, 0, 0, 0],[1, 0, 0, 0, 0],[0, 0, 0, 0, 0],[0, 0, 0, 0, 0],[0, 0, 0, 0, 0]]), #2\n",
    "            np.array([[0, 1, 0, 0, 0],[1, 0, 1, 0, 0],[0, 1, 0, 0, 0],[0, 0, 0, 0, 0],[0, 0, 0, 0, 0]]), #3\n",
    "            np.array([[0, 1, 0, 0, 0],[1, 0, 0, 0, 0],[0, 0, 0, 1, 0],[0, 0, 1, 0, 0],[0, 0, 0, 0, 0]]), #4\n",
    "            np.array([[0, 1, 1, 1, 0],[1, 0, 0, 0, 0],[1, 0, 0, 0, 0],[1, 0, 0, 0, 0],[0, 0, 0, 0, 0]]), #5\n",
    "            np.array([[0, 1, 1, 0, 0],[1, 0, 1, 0, 0],[1, 1, 0, 0, 0],[0, 0, 0, 0, 0],[0, 0, 0, 0, 0]]), #6\n",
    "            np.array([[0, 1, 0, 0, 0],[1, 0, 1, 0, 0],[0, 1, 0, 1, 0],[0, 0, 1, 0, 0],[0, 0, 0, 0, 0]]), #7\n",
    "            np.array([[0, 1, 0, 0, 0],[1, 0, 1, 0, 0],[0, 1, 0, 0, 0],[0, 0, 0, 0, 1],[0, 0, 0, 1, 0]]), #8\n",
    "            np.array([[0, 1, 1, 1, 1],[1, 0, 0, 0, 0],[1, 0, 0, 0, 0],[1, 0, 0, 0, 0],[1, 0, 0, 0, 0]]), #9\n",
    "            np.array([[0, 1, 1, 1, 0],[1, 0, 1, 0, 0],[1, 1, 0, 0, 0],[1, 0, 0, 0, 0],[0, 0, 0, 0, 0]]), #10\n",
    "            np.array([[0, 1, 0, 0, 0],[1, 0, 1, 0, 0],[0, 1, 0, 1, 1],[0, 0, 1, 0, 0],[0, 0, 1, 0, 0]]), #11\n",
    "            np.array([[0, 1, 1, 0, 0],[1, 0, 1, 0, 0],[1, 1, 0, 0, 0],[0, 0, 0, 0, 1],[0, 0, 0, 1, 0]]), #12 \n",
    "            np.array([[0, 1, 0, 1, 0],[1, 0, 1, 0, 0],[0, 1, 0, 1, 0],[1, 0, 1, 0, 0],[0, 0, 0, 0, 0]]), #13\n",
    "            np.array([[0, 1, 0, 0, 0],[1, 0, 1, 0, 0],[0, 1, 0, 1, 0],[0, 0, 1, 0, 1],[0, 0, 0, 1, 0]]), #14\n",
    "            np.array([[0, 1, 1, 1, 1],[1, 0, 1, 0, 0],[1, 1, 0, 0, 0],[1, 0, 0, 0, 0],[1, 0, 0, 0, 0]]), #15\n",
    "            np.array([[0, 1, 1, 0, 1],[1, 0, 1, 0, 0],[1, 1, 0, 1, 0],[1, 0, 1, 0, 0],[0, 0, 0, 0, 0]]), #16\n",
    "            np.array([[0, 1, 1, 1, 0],[1, 0, 1, 0, 1],[1, 1, 0, 0, 0],[1, 0, 0, 0, 0],[0, 1, 0, 0, 0]]), #17\n",
    "            np.array([[0, 1, 1, 1, 0],[1, 0, 1, 0, 0],[1, 1, 0, 0, 0],[1, 0, 0, 0, 1],[0, 0, 0, 1, 0]]), #18\n",
    "            np.array([[0, 1, 0, 1, 1],[1, 0, 1, 0, 0],[0, 1, 0, 1, 0],[1, 0, 1, 0, 0],[1, 0, 0, 0, 0]]), #19\n",
    "            np.array([[0, 1, 0, 0, 1],[1, 0, 1, 0, 0],[0, 1, 0, 1, 0],[0, 0, 1, 0, 1],[1, 0, 0, 1, 0]]), #20\n",
    "            np.array([[0, 1, 1, 1, 1],[1, 0, 1, 0, 0],[1, 1, 0, 1, 0],[1, 0, 1, 0, 0],[1, 0, 0, 0, 0]]), #21\n",
    "            np.array([[0, 1, 1, 1, 1],[1, 0, 1, 0, 0],[1, 1, 0, 0, 0],[1, 0, 0, 0, 1],[1, 0, 0, 1, 0]]), #22\n",
    "            np.array([[0, 1, 3, 1, 0],[1, 0, 1, 1, 0],[1, 1, 0, 1, 0],[1, 1, 1, 0, 0],[0, 0, 0, 0, 0]]), #23\n",
    "            np.array([[0, 1, 0, 1, 1],[1, 0, 1, 1, 0],[0, 1, 0, 1, 0],[1, 1, 1, 0, 0],[1, 0, 0, 0, 0]]), #24\n",
    "            np.array([[0, 1, 0, 1, 1],[1, 0, 1, 0, 1],[0, 1, 0, 1, 0],[1, 0, 1, 0, 0],[1, 1, 0, 0, 0]]), #25\n",
    "            np.array([[0, 1, 0, 1, 1],[1, 0, 1, 0, 0],[0, 1, 0, 1, 1],[1, 0, 1, 0, 0],[1, 0, 1, 0, 0]]), #26\n",
    "            np.array([[0, 1, 1, 1, 1],[1, 0, 1, 0, 0],[1, 1, 0, 1, 1],[1, 0, 1, 0, 0],[1, 0, 1, 0, 0]]), #27\n",
    "            np.array([[0, 1, 3, 1, 0],[1, 0, 1, 1, 1],[1, 1, 0, 1, 0],[1, 1, 1, 0, 0],[0, 1, 0, 0, 0]]), #28\n",
    "            np.array([[0, 1, 1, 1, 1],[1, 0, 1, 1, 0],[1, 1, 0, 0, 0],[1, 1, 0, 0, 1],[1, 0, 0, 1, 0]]), #29\n",
    "            np.array([[0, 1, 1, 0, 1],[1, 0, 1, 1, 0],[1, 1, 0, 1, 0],[1, 0, 1, 0, 1],[1, 0, 0, 1, 0]]), #30\n",
    "            np.array([[0, 1, 1, 1, 1],[1, 0, 1, 0, 0],[1, 1, 0, 1, 1],[1, 0, 1, 0, 1],[1, 0, 1, 1, 0]]), #31\n",
    "            np.array([[0, 1, 0, 1, 1],[1, 0, 1, 0, 1],[0, 1, 0, 1, 1],[1, 0, 1, 0, 1],[1, 1, 1, 1, 0]]), #32\n",
    "            np.array([[0, 1, 1, 1, 1],[1, 0, 1, 1, 0],[1, 1, 0, 1, 1],[1, 1, 1, 0, 1],[1, 0, 1, 1, 0]]), #33\n",
    "            np.array([[0, 1, 1, 1, 1],[1, 0, 1, 1, 1],[1, 1, 0, 1, 1],[1, 1, 1, 0, 1],[1, 1, 1, 1, 0]]), #33\n",
    "        ]\n",
    "    \n",
    "    return [nx.from_numpy_matrix(m) for m in graphlets]"
   ]
  },
  {
   "cell_type": "code",
   "execution_count": 4,
   "metadata": {
    "pycharm": {
     "name": "#%%\n"
    }
   },
   "outputs": [],
   "source": [
    "def sample_subgraphs(G, k):\n",
    "    nodes = G.nodes()\n",
    "\n",
    "    return G.subgraph(np.random.choice(nodes, k, replace=False).tolist())"
   ]
  },
  {
   "cell_type": "code",
   "execution_count": 5,
   "metadata": {
    "pycharm": {
     "name": "#%%\n"
    }
   },
   "outputs": [],
   "source": [
    "def find_iso_graphlet(subgraph, graphlets, spectrum):\n",
    "    for i, graphlet in enumerate(graphlets):\n",
    "        if nx.is_isomorphic(subgraph, graphlet):\n",
    "            spectrum[i] += 1"
   ]
  },
  {
   "cell_type": "code",
   "execution_count": 6,
   "metadata": {
    "pycharm": {
     "name": "#%%\n"
    }
   },
   "outputs": [],
   "source": [
    "def estimate_spectrum(G, k, delta, epsilon):\n",
    "    graphlets = build_graphlets(k)\n",
    "    m = nb_samples_required(len(graphlets), delta, epsilon)\n",
    "    spectrum = np.zeros(len(graphlets))\n",
    "\n",
    "    for _ in range(m):\n",
    "        subgraph = sample_subgraphs(G, k)\n",
    "        find_iso_graphlet(subgraph, graphlets, spectrum)\n",
    "\n",
    "    #return spectrum / np.linalg.norm(spectrum) # to sum to 1 for kernel(G, G)\n",
    "    return spectrum / m"
   ]
  },
  {
   "cell_type": "code",
   "execution_count": 7,
   "metadata": {
    "pycharm": {
     "name": "#%%\n"
    }
   },
   "outputs": [],
   "source": [
    "def kernel(G1, G2, k, delta, epsilon):\n",
    "    spectrum1 = estimate_spectrum(G1, k, delta, epsilon)\n",
    "    spectrum2 = estimate_spectrum(G2, k, delta, epsilon)\n",
    "\n",
    "    return spectrum1.T @ spectrum2"
   ]
  },
  {
   "cell_type": "markdown",
   "source": [
    "# Figures\n",
    "### Evolution of $N_k$ vs $2^{binom(k, 2)}$"
   ],
   "metadata": {
    "collapsed": false,
    "pycharm": {
     "name": "#%% md\n"
    }
   }
  },
  {
   "cell_type": "code",
   "execution_count": 61,
   "outputs": [
    {
     "data": {
      "text/plain": "<Figure size 864x576 with 1 Axes>",
      "image/png": "[encoded data removed]"
     },
     "metadata": {
      "needs_background": "light"
     },
     "output_type": "display_data"
    }
   ],
   "source": [
    "plt.plot([3, 4, 5], [4, 11, 34], label='$N_k$', marker='*')\n",
    "plt.plot([3, 4, 5], [2**scipy.special.binom(k, 2) for k in [3, 4, 5]], label='$2^{binom(k, 2)}$', marker='*')\n",
    "for i,j in zip([3,4,5], [4, 11, 34]):\n",
    "    plt.annotate(str(j),xy=(i+0.02,j-30))\n",
    "for i,j in zip([3,4,5], [int(2**scipy.special.binom(k, 2)) for k in [3, 4, 5]]):\n",
    "    plt.annotate(str(j),xy=(i-0.07,j+13))\n",
    "plt.legend()\n",
    "plt.title('Evolution of $N_k$ and $2^{binom(k, 2)}$')\n",
    "plt.xticks([3, 4, 5])\n",
    "plt.xlabel('$k$')\n",
    "plt.savefig('plots/Nk_2_binom.png')\n",
    "plt.show()"
   ],
   "metadata": {
    "collapsed": false,
    "pycharm": {
     "name": "#%%\n"
    }
   }
  },
  {
   "cell_type": "markdown",
   "source": [
    "### Evolution of $binom(n, k)$ vs m"
   ],
   "metadata": {
    "collapsed": false,
    "pycharm": {
     "name": "#%% md\n"
    }
   }
  },
  {
   "cell_type": "code",
   "execution_count": 71,
   "outputs": [
    {
     "data": {
      "text/plain": "<Figure size 864x576 with 1 Axes>",
      "image/png": "[encoded data removed]"
     },
     "metadata": {
      "needs_background": "light"
     },
     "output_type": "display_data"
    }
   ],
   "source": [
    "epsilon = 0.01\n",
    "delta = 0.01\n",
    "ns = list(range(1000))\n",
    "\n",
    "n3 = [scipy.special.binom(n, 3) for n in ns]\n",
    "n4 = [scipy.special.binom(n, 4) for n in ns]\n",
    "n5 = [scipy.special.binom(n, 5) for n in ns]\n",
    "\n",
    "m3 = nb_samples_required(4, delta, epsilon)\n",
    "m4 = nb_samples_required(11, delta, epsilon)\n",
    "m5 = nb_samples_required(34, delta, epsilon)\n",
    "\n",
    "plt.semilogy(ns, n3, label='$binom(n, 3)$')\n",
    "plt.semilogy(ns, n4, label='$binom(n, 4)$')\n",
    "plt.semilogy(ns, n5, label='$binom(n, 5)$')\n",
    "\n",
    "plt.semilogy(ns, [m3] * len(ns), label='$m$, $k=3$')\n",
    "plt.semilogy(ns, [m4] * len(ns), label='$m$, $k=4$')\n",
    "plt.semilogy(ns, [m5] * len(ns), label='$m$, $k=5$')\n",
    "\n",
    "tmp = [np.argwhere(m3 < np.array(n3))[0], np.argwhere(m4 < np.array(n4))[0], np.argwhere(m5 < np.array(n5))[0]]\n",
    "plt.axvline(tmp[0], linestyle='--', color='grey')\n",
    "plt.axvline(tmp[1], linestyle='--', color='grey')\n",
    "plt.axvline(tmp[2], linestyle='--', color='grey')\n",
    "\n",
    "plt.legend()\n",
    "plt.xlabel('$n$')\n",
    "plt.title('Evolution of $binom(n, k)$ and $m$')\n",
    "plt.xticks(list(range(0, 1001, 50)))\n",
    "plt.savefig('plots/bin_m.png')\n",
    "plt.show()"
   ],
   "metadata": {
    "collapsed": false,
    "pycharm": {
     "name": "#%%\n"
    }
   }
  },
  {
   "cell_type": "markdown",
   "source": [
    "# Experiments"
   ],
   "metadata": {
    "collapsed": false,
    "pycharm": {
     "name": "#%% md\n"
    }
   }
  },
  {
   "cell_type": "code",
   "execution_count": 61,
   "metadata": {
    "pycharm": {
     "name": "#%%\n"
    }
   },
   "outputs": [],
   "source": [
    "G = nx.fast_gnp_random_graph(100, 0.1)\n",
    "\n",
    "spectrum = estimate_spectrum(G, 5, 0.05, 0.05)"
   ]
  },
  {
   "cell_type": "code",
   "execution_count": 62,
   "metadata": {
    "pycharm": {
     "name": "#%%\n"
    }
   },
   "outputs": [
    {
     "data": {
      "text/plain": [
       "0.9999529433908992"
      ]
     },
     "execution_count": 62,
     "metadata": {},
     "output_type": "execute_result"
    }
   ],
   "source": [
    "sum(spectrum)"
   ]
  },
  {
   "cell_type": "code",
   "execution_count": 10,
   "metadata": {
    "pycharm": {
     "name": "#%%\n"
    }
   },
   "outputs": [
    {
     "data": {
      "text/plain": [
       "0.5902935573269605"
      ]
     },
     "execution_count": 10,
     "metadata": {},
     "output_type": "execute_result"
    }
   ],
   "source": [
    "kernel(G, G, 3, 0.05, 0.05)"
   ]
  },
  {
   "cell_type": "code",
   "execution_count": 36,
   "metadata": {
    "pycharm": {
     "name": "#%%\n"
    }
   },
   "outputs": [
    {
     "data": {
      "text/plain": [
       "(956, 924)"
      ]
     },
     "execution_count": 36,
     "metadata": {},
     "output_type": "execute_result"
    }
   ],
   "source": [
    "graphlet = nx.from_numpy_matrix(np.array([[0, 1, 0], [0, 0, 1], [1, 0, 0]]))\n",
    "motif1 = nx.Graph()\n",
    "motif1.add_node(\"A\")\n",
    "motif1.add_node(\"C\")\n",
    "motif1.add_edge(\"A\",\"C\")\n",
    "motif2 = nx.Graph()\n",
    "motif2.add_edge(\"A\", \"B\")\n",
    "motif2.add_edge(\"B\", \"C\")\n",
    "motif2.add_edge(\"C\", \"A\")\n",
    "\n",
    "find_motifs(motif1,G,count_only=True,isomorphisms_only=True),find_motifs(motif2,G,count_only=True,isomorphisms_only=True)\n",
    "\n"
   ]
  },
  {
   "cell_type": "markdown",
   "source": [
    "### Scalability with $n$"
   ],
   "metadata": {
    "collapsed": false,
    "pycharm": {
     "name": "#%% md\n"
    }
   }
  },
  {
   "cell_type": "code",
   "execution_count": 8,
   "outputs": [
    {
     "name": "stdout",
     "output_type": "stream",
     "text": [
      "Time (k=3, n=100) : 4.0336\n",
      "Time (k=4, n=100) : 14.0414\n",
      "Time (k=5, n=100) : 83.4315\n",
      "Time (k=3, n=1000) : 5.1391\n",
      "Time (k=4, n=1000) : 16.5220\n",
      "Time (k=5, n=1000) : 89.2364\n",
      "Time (k=3, n=10000) : 12.0175\n",
      "Time (k=4, n=10000) : 28.4276\n",
      "Time (k=5, n=10000) : 120.4740\n",
      "Time (k=3, n=100000) : 79.7167\n",
      "Time (k=4, n=100000) : 153.2338\n"
     ]
    },
    {
     "ename": "KeyboardInterrupt",
     "evalue": "",
     "output_type": "error",
     "traceback": [
      "\u001B[0;31m---------------------------------------------------------------------------\u001B[0m",
      "\u001B[0;31mKeyboardInterrupt\u001B[0m                         Traceback (most recent call last)",
      "\u001B[0;32m<ipython-input-8-e08bce5f848c>\u001B[0m in \u001B[0;36m<module>\u001B[0;34m\u001B[0m\n\u001B[1;32m      9\u001B[0m \u001B[0;34m\u001B[0m\u001B[0m\n\u001B[1;32m     10\u001B[0m         \u001B[0mstart\u001B[0m \u001B[0;34m=\u001B[0m \u001B[0mtime\u001B[0m\u001B[0;34m.\u001B[0m\u001B[0mprocess_time_ns\u001B[0m\u001B[0;34m(\u001B[0m\u001B[0;34m)\u001B[0m\u001B[0;34m\u001B[0m\u001B[0;34m\u001B[0m\u001B[0m\n\u001B[0;32m---> 11\u001B[0;31m         \u001B[0mkernel\u001B[0m\u001B[0;34m(\u001B[0m\u001B[0mG1\u001B[0m\u001B[0;34m,\u001B[0m \u001B[0mG2\u001B[0m\u001B[0;34m,\u001B[0m \u001B[0mk\u001B[0m\u001B[0;34m,\u001B[0m \u001B[0;36m0.05\u001B[0m\u001B[0;34m,\u001B[0m \u001B[0;36m0.05\u001B[0m\u001B[0;34m)\u001B[0m\u001B[0;34m\u001B[0m\u001B[0;34m\u001B[0m\u001B[0m\n\u001B[0m\u001B[1;32m     12\u001B[0m         \u001B[0mstop\u001B[0m \u001B[0;34m=\u001B[0m \u001B[0mtime\u001B[0m\u001B[0;34m.\u001B[0m\u001B[0mprocess_time_ns\u001B[0m\u001B[0;34m(\u001B[0m\u001B[0;34m)\u001B[0m\u001B[0;34m\u001B[0m\u001B[0;34m\u001B[0m\u001B[0m\n\u001B[1;32m     13\u001B[0m \u001B[0;34m\u001B[0m\u001B[0m\n",
      "\u001B[0;32m<ipython-input-7-2c2d1371897f>\u001B[0m in \u001B[0;36mkernel\u001B[0;34m(G1, G2, k, delta, epsilon)\u001B[0m\n\u001B[1;32m      1\u001B[0m \u001B[0;32mdef\u001B[0m \u001B[0mkernel\u001B[0m\u001B[0;34m(\u001B[0m\u001B[0mG1\u001B[0m\u001B[0;34m,\u001B[0m \u001B[0mG2\u001B[0m\u001B[0;34m,\u001B[0m \u001B[0mk\u001B[0m\u001B[0;34m,\u001B[0m \u001B[0mdelta\u001B[0m\u001B[0;34m,\u001B[0m \u001B[0mepsilon\u001B[0m\u001B[0;34m)\u001B[0m\u001B[0;34m:\u001B[0m\u001B[0;34m\u001B[0m\u001B[0;34m\u001B[0m\u001B[0m\n\u001B[1;32m      2\u001B[0m     \u001B[0mspectrum1\u001B[0m \u001B[0;34m=\u001B[0m \u001B[0mestimate_spectrum\u001B[0m\u001B[0;34m(\u001B[0m\u001B[0mG1\u001B[0m\u001B[0;34m,\u001B[0m \u001B[0mk\u001B[0m\u001B[0;34m,\u001B[0m \u001B[0mdelta\u001B[0m\u001B[0;34m,\u001B[0m \u001B[0mepsilon\u001B[0m\u001B[0;34m)\u001B[0m\u001B[0;34m\u001B[0m\u001B[0;34m\u001B[0m\u001B[0m\n\u001B[0;32m----> 3\u001B[0;31m     \u001B[0mspectrum2\u001B[0m \u001B[0;34m=\u001B[0m \u001B[0mestimate_spectrum\u001B[0m\u001B[0;34m(\u001B[0m\u001B[0mG2\u001B[0m\u001B[0;34m,\u001B[0m \u001B[0mk\u001B[0m\u001B[0;34m,\u001B[0m \u001B[0mdelta\u001B[0m\u001B[0;34m,\u001B[0m \u001B[0mepsilon\u001B[0m\u001B[0;34m)\u001B[0m\u001B[0;34m\u001B[0m\u001B[0;34m\u001B[0m\u001B[0m\n\u001B[0m\u001B[1;32m      4\u001B[0m \u001B[0;34m\u001B[0m\u001B[0m\n\u001B[1;32m      5\u001B[0m     \u001B[0;32mreturn\u001B[0m \u001B[0mspectrum1\u001B[0m\u001B[0;34m.\u001B[0m\u001B[0mT\u001B[0m \u001B[0;34m@\u001B[0m \u001B[0mspectrum2\u001B[0m\u001B[0;34m\u001B[0m\u001B[0;34m\u001B[0m\u001B[0m\n",
      "\u001B[0;32m<ipython-input-6-51ebfaf5e7fe>\u001B[0m in \u001B[0;36mestimate_spectrum\u001B[0;34m(G, k, delta, epsilon)\u001B[0m\n\u001B[1;32m      6\u001B[0m     \u001B[0;32mfor\u001B[0m \u001B[0m_\u001B[0m \u001B[0;32min\u001B[0m \u001B[0mrange\u001B[0m\u001B[0;34m(\u001B[0m\u001B[0mm\u001B[0m\u001B[0;34m)\u001B[0m\u001B[0;34m:\u001B[0m\u001B[0;34m\u001B[0m\u001B[0;34m\u001B[0m\u001B[0m\n\u001B[1;32m      7\u001B[0m         \u001B[0msubgraph\u001B[0m \u001B[0;34m=\u001B[0m \u001B[0msample_subgraphs\u001B[0m\u001B[0;34m(\u001B[0m\u001B[0mG\u001B[0m\u001B[0;34m,\u001B[0m \u001B[0mk\u001B[0m\u001B[0;34m)\u001B[0m\u001B[0;34m\u001B[0m\u001B[0;34m\u001B[0m\u001B[0m\n\u001B[0;32m----> 8\u001B[0;31m         \u001B[0mfind_iso_graphlet\u001B[0m\u001B[0;34m(\u001B[0m\u001B[0msubgraph\u001B[0m\u001B[0;34m,\u001B[0m \u001B[0mgraphlets\u001B[0m\u001B[0;34m,\u001B[0m \u001B[0mspectrum\u001B[0m\u001B[0;34m)\u001B[0m\u001B[0;34m\u001B[0m\u001B[0;34m\u001B[0m\u001B[0m\n\u001B[0m\u001B[1;32m      9\u001B[0m \u001B[0;34m\u001B[0m\u001B[0m\n\u001B[1;32m     10\u001B[0m     \u001B[0;31m#return spectrum / np.linalg.norm(spectrum) # to sum to 1 for kernel(G, G)\u001B[0m\u001B[0;34m\u001B[0m\u001B[0;34m\u001B[0m\u001B[0m\n",
      "\u001B[0;32m<ipython-input-5-b948d379d215>\u001B[0m in \u001B[0;36mfind_iso_graphlet\u001B[0;34m(subgraph, graphlets, spectrum)\u001B[0m\n\u001B[1;32m      1\u001B[0m \u001B[0;32mdef\u001B[0m \u001B[0mfind_iso_graphlet\u001B[0m\u001B[0;34m(\u001B[0m\u001B[0msubgraph\u001B[0m\u001B[0;34m,\u001B[0m \u001B[0mgraphlets\u001B[0m\u001B[0;34m,\u001B[0m \u001B[0mspectrum\u001B[0m\u001B[0;34m)\u001B[0m\u001B[0;34m:\u001B[0m\u001B[0;34m\u001B[0m\u001B[0;34m\u001B[0m\u001B[0m\n\u001B[1;32m      2\u001B[0m     \u001B[0;32mfor\u001B[0m \u001B[0mi\u001B[0m\u001B[0;34m,\u001B[0m \u001B[0mgraphlet\u001B[0m \u001B[0;32min\u001B[0m \u001B[0menumerate\u001B[0m\u001B[0;34m(\u001B[0m\u001B[0mgraphlets\u001B[0m\u001B[0;34m)\u001B[0m\u001B[0;34m:\u001B[0m\u001B[0;34m\u001B[0m\u001B[0;34m\u001B[0m\u001B[0m\n\u001B[0;32m----> 3\u001B[0;31m         \u001B[0;32mif\u001B[0m \u001B[0mnx\u001B[0m\u001B[0;34m.\u001B[0m\u001B[0mis_isomorphic\u001B[0m\u001B[0;34m(\u001B[0m\u001B[0msubgraph\u001B[0m\u001B[0;34m,\u001B[0m \u001B[0mgraphlet\u001B[0m\u001B[0;34m)\u001B[0m\u001B[0;34m:\u001B[0m\u001B[0;34m\u001B[0m\u001B[0;34m\u001B[0m\u001B[0m\n\u001B[0m\u001B[1;32m      4\u001B[0m             \u001B[0mspectrum\u001B[0m\u001B[0;34m[\u001B[0m\u001B[0mi\u001B[0m\u001B[0;34m]\u001B[0m \u001B[0;34m+=\u001B[0m \u001B[0;36m1\u001B[0m\u001B[0;34m\u001B[0m\u001B[0;34m\u001B[0m\u001B[0m\n",
      "\u001B[0;32m~/anaconda3/envs/ds/lib/python3.9/site-packages/networkx/algorithms/isomorphism/isomorph.py\u001B[0m in \u001B[0;36mis_isomorphic\u001B[0;34m(G1, G2, node_match, edge_match)\u001B[0m\n\u001B[1;32m    231\u001B[0m     \u001B[0mgm\u001B[0m \u001B[0;34m=\u001B[0m \u001B[0mGM\u001B[0m\u001B[0;34m(\u001B[0m\u001B[0mG1\u001B[0m\u001B[0;34m,\u001B[0m \u001B[0mG2\u001B[0m\u001B[0;34m,\u001B[0m \u001B[0mnode_match\u001B[0m\u001B[0;34m=\u001B[0m\u001B[0mnode_match\u001B[0m\u001B[0;34m,\u001B[0m \u001B[0medge_match\u001B[0m\u001B[0;34m=\u001B[0m\u001B[0medge_match\u001B[0m\u001B[0;34m)\u001B[0m\u001B[0;34m\u001B[0m\u001B[0;34m\u001B[0m\u001B[0m\n\u001B[1;32m    232\u001B[0m \u001B[0;34m\u001B[0m\u001B[0m\n\u001B[0;32m--> 233\u001B[0;31m     \u001B[0;32mreturn\u001B[0m \u001B[0mgm\u001B[0m\u001B[0;34m.\u001B[0m\u001B[0mis_isomorphic\u001B[0m\u001B[0;34m(\u001B[0m\u001B[0;34m)\u001B[0m\u001B[0;34m\u001B[0m\u001B[0;34m\u001B[0m\u001B[0m\n\u001B[0m",
      "\u001B[0;32m~/anaconda3/envs/ds/lib/python3.9/site-packages/networkx/algorithms/isomorphism/isomorphvf2.py\u001B[0m in \u001B[0;36mis_isomorphic\u001B[0;34m(self)\u001B[0m\n\u001B[1;32m    276\u001B[0m \u001B[0;34m\u001B[0m\u001B[0m\n\u001B[1;32m    277\u001B[0m         \u001B[0;31m# Check local properties\u001B[0m\u001B[0;34m\u001B[0m\u001B[0;34m\u001B[0m\u001B[0m\n\u001B[0;32m--> 278\u001B[0;31m         \u001B[0md1\u001B[0m \u001B[0;34m=\u001B[0m \u001B[0msorted\u001B[0m\u001B[0;34m(\u001B[0m\u001B[0md\u001B[0m \u001B[0;32mfor\u001B[0m \u001B[0mn\u001B[0m\u001B[0;34m,\u001B[0m \u001B[0md\u001B[0m \u001B[0;32min\u001B[0m \u001B[0mself\u001B[0m\u001B[0;34m.\u001B[0m\u001B[0mG1\u001B[0m\u001B[0;34m.\u001B[0m\u001B[0mdegree\u001B[0m\u001B[0;34m(\u001B[0m\u001B[0;34m)\u001B[0m\u001B[0;34m)\u001B[0m\u001B[0;34m\u001B[0m\u001B[0;34m\u001B[0m\u001B[0m\n\u001B[0m\u001B[1;32m    279\u001B[0m         \u001B[0md2\u001B[0m \u001B[0;34m=\u001B[0m \u001B[0msorted\u001B[0m\u001B[0;34m(\u001B[0m\u001B[0md\u001B[0m \u001B[0;32mfor\u001B[0m \u001B[0mn\u001B[0m\u001B[0;34m,\u001B[0m \u001B[0md\u001B[0m \u001B[0;32min\u001B[0m \u001B[0mself\u001B[0m\u001B[0;34m.\u001B[0m\u001B[0mG2\u001B[0m\u001B[0;34m.\u001B[0m\u001B[0mdegree\u001B[0m\u001B[0;34m(\u001B[0m\u001B[0;34m)\u001B[0m\u001B[0;34m)\u001B[0m\u001B[0;34m\u001B[0m\u001B[0;34m\u001B[0m\u001B[0m\n\u001B[1;32m    280\u001B[0m         \u001B[0;32mif\u001B[0m \u001B[0md1\u001B[0m \u001B[0;34m!=\u001B[0m \u001B[0md2\u001B[0m\u001B[0;34m:\u001B[0m\u001B[0;34m\u001B[0m\u001B[0;34m\u001B[0m\u001B[0m\n",
      "\u001B[0;32m~/anaconda3/envs/ds/lib/python3.9/site-packages/networkx/algorithms/isomorphism/isomorphvf2.py\u001B[0m in \u001B[0;36m<genexpr>\u001B[0;34m(.0)\u001B[0m\n\u001B[1;32m    276\u001B[0m \u001B[0;34m\u001B[0m\u001B[0m\n\u001B[1;32m    277\u001B[0m         \u001B[0;31m# Check local properties\u001B[0m\u001B[0;34m\u001B[0m\u001B[0;34m\u001B[0m\u001B[0m\n\u001B[0;32m--> 278\u001B[0;31m         \u001B[0md1\u001B[0m \u001B[0;34m=\u001B[0m \u001B[0msorted\u001B[0m\u001B[0;34m(\u001B[0m\u001B[0md\u001B[0m \u001B[0;32mfor\u001B[0m \u001B[0mn\u001B[0m\u001B[0;34m,\u001B[0m \u001B[0md\u001B[0m \u001B[0;32min\u001B[0m \u001B[0mself\u001B[0m\u001B[0;34m.\u001B[0m\u001B[0mG1\u001B[0m\u001B[0;34m.\u001B[0m\u001B[0mdegree\u001B[0m\u001B[0;34m(\u001B[0m\u001B[0;34m)\u001B[0m\u001B[0;34m)\u001B[0m\u001B[0;34m\u001B[0m\u001B[0;34m\u001B[0m\u001B[0m\n\u001B[0m\u001B[1;32m    279\u001B[0m         \u001B[0md2\u001B[0m \u001B[0;34m=\u001B[0m \u001B[0msorted\u001B[0m\u001B[0;34m(\u001B[0m\u001B[0md\u001B[0m \u001B[0;32mfor\u001B[0m \u001B[0mn\u001B[0m\u001B[0;34m,\u001B[0m \u001B[0md\u001B[0m \u001B[0;32min\u001B[0m \u001B[0mself\u001B[0m\u001B[0;34m.\u001B[0m\u001B[0mG2\u001B[0m\u001B[0;34m.\u001B[0m\u001B[0mdegree\u001B[0m\u001B[0;34m(\u001B[0m\u001B[0;34m)\u001B[0m\u001B[0;34m)\u001B[0m\u001B[0;34m\u001B[0m\u001B[0;34m\u001B[0m\u001B[0m\n\u001B[1;32m    280\u001B[0m         \u001B[0;32mif\u001B[0m \u001B[0md1\u001B[0m \u001B[0;34m!=\u001B[0m \u001B[0md2\u001B[0m\u001B[0;34m:\u001B[0m\u001B[0;34m\u001B[0m\u001B[0;34m\u001B[0m\u001B[0m\n",
      "\u001B[0;32m~/anaconda3/envs/ds/lib/python3.9/site-packages/networkx/classes/reportviews.py\u001B[0m in \u001B[0;36m__iter__\u001B[0;34m(self)\u001B[0m\n\u001B[1;32m    457\u001B[0m             \u001B[0;32mfor\u001B[0m \u001B[0mn\u001B[0m \u001B[0;32min\u001B[0m \u001B[0mself\u001B[0m\u001B[0;34m.\u001B[0m\u001B[0m_nodes\u001B[0m\u001B[0;34m:\u001B[0m\u001B[0;34m\u001B[0m\u001B[0;34m\u001B[0m\u001B[0m\n\u001B[1;32m    458\u001B[0m                 \u001B[0mnbrs\u001B[0m \u001B[0;34m=\u001B[0m \u001B[0mself\u001B[0m\u001B[0;34m.\u001B[0m\u001B[0m_succ\u001B[0m\u001B[0;34m[\u001B[0m\u001B[0mn\u001B[0m\u001B[0;34m]\u001B[0m\u001B[0;34m\u001B[0m\u001B[0;34m\u001B[0m\u001B[0m\n\u001B[0;32m--> 459\u001B[0;31m                 \u001B[0;32myield\u001B[0m \u001B[0;34m(\u001B[0m\u001B[0mn\u001B[0m\u001B[0;34m,\u001B[0m \u001B[0mlen\u001B[0m\u001B[0;34m(\u001B[0m\u001B[0mnbrs\u001B[0m\u001B[0;34m)\u001B[0m \u001B[0;34m+\u001B[0m \u001B[0;34m(\u001B[0m\u001B[0mn\u001B[0m \u001B[0;32min\u001B[0m \u001B[0mnbrs\u001B[0m\u001B[0;34m)\u001B[0m\u001B[0;34m)\u001B[0m\u001B[0;34m\u001B[0m\u001B[0;34m\u001B[0m\u001B[0m\n\u001B[0m\u001B[1;32m    460\u001B[0m         \u001B[0;32melse\u001B[0m\u001B[0;34m:\u001B[0m\u001B[0;34m\u001B[0m\u001B[0;34m\u001B[0m\u001B[0m\n\u001B[1;32m    461\u001B[0m             \u001B[0;32mfor\u001B[0m \u001B[0mn\u001B[0m \u001B[0;32min\u001B[0m \u001B[0mself\u001B[0m\u001B[0;34m.\u001B[0m\u001B[0m_nodes\u001B[0m\u001B[0;34m:\u001B[0m\u001B[0;34m\u001B[0m\u001B[0;34m\u001B[0m\u001B[0m\n",
      "\u001B[0;32m~/anaconda3/envs/ds/lib/python3.9/site-packages/networkx/classes/coreviews.py\u001B[0m in \u001B[0;36m__len__\u001B[0;34m(self)\u001B[0m\n\u001B[1;32m    268\u001B[0m \u001B[0;34m\u001B[0m\u001B[0m\n\u001B[1;32m    269\u001B[0m     \u001B[0;32mdef\u001B[0m \u001B[0m__len__\u001B[0m\u001B[0;34m(\u001B[0m\u001B[0mself\u001B[0m\u001B[0;34m)\u001B[0m\u001B[0;34m:\u001B[0m\u001B[0;34m\u001B[0m\u001B[0;34m\u001B[0m\u001B[0m\n\u001B[0;32m--> 270\u001B[0;31m         \u001B[0;32mreturn\u001B[0m \u001B[0msum\u001B[0m\u001B[0;34m(\u001B[0m\u001B[0;36m1\u001B[0m \u001B[0;32mfor\u001B[0m \u001B[0mn\u001B[0m \u001B[0;32min\u001B[0m \u001B[0mself\u001B[0m\u001B[0;34m)\u001B[0m\u001B[0;34m\u001B[0m\u001B[0;34m\u001B[0m\u001B[0m\n\u001B[0m\u001B[1;32m    271\u001B[0m \u001B[0;34m\u001B[0m\u001B[0m\n\u001B[1;32m    272\u001B[0m     \u001B[0;32mdef\u001B[0m \u001B[0m__iter__\u001B[0m\u001B[0;34m(\u001B[0m\u001B[0mself\u001B[0m\u001B[0;34m)\u001B[0m\u001B[0;34m:\u001B[0m\u001B[0;34m\u001B[0m\u001B[0;34m\u001B[0m\u001B[0m\n",
      "\u001B[0;32m~/anaconda3/envs/ds/lib/python3.9/site-packages/networkx/classes/coreviews.py\u001B[0m in \u001B[0;36m__iter__\u001B[0;34m(self)\u001B[0m\n\u001B[1;32m    271\u001B[0m \u001B[0;34m\u001B[0m\u001B[0m\n\u001B[1;32m    272\u001B[0m     \u001B[0;32mdef\u001B[0m \u001B[0m__iter__\u001B[0m\u001B[0;34m(\u001B[0m\u001B[0mself\u001B[0m\u001B[0;34m)\u001B[0m\u001B[0;34m:\u001B[0m\u001B[0;34m\u001B[0m\u001B[0;34m\u001B[0m\u001B[0m\n\u001B[0;32m--> 273\u001B[0;31m         \u001B[0;32mtry\u001B[0m\u001B[0;34m:\u001B[0m  \u001B[0;31m# check that NODE_OK has attr 'nodes'\u001B[0m\u001B[0;34m\u001B[0m\u001B[0;34m\u001B[0m\u001B[0m\n\u001B[0m\u001B[1;32m    274\u001B[0m             \u001B[0mnode_ok_shorter\u001B[0m \u001B[0;34m=\u001B[0m \u001B[0;36m2\u001B[0m \u001B[0;34m*\u001B[0m \u001B[0mlen\u001B[0m\u001B[0;34m(\u001B[0m\u001B[0mself\u001B[0m\u001B[0;34m.\u001B[0m\u001B[0mNODE_OK\u001B[0m\u001B[0;34m.\u001B[0m\u001B[0mnodes\u001B[0m\u001B[0;34m)\u001B[0m \u001B[0;34m<\u001B[0m \u001B[0mlen\u001B[0m\u001B[0;34m(\u001B[0m\u001B[0mself\u001B[0m\u001B[0;34m.\u001B[0m\u001B[0m_atlas\u001B[0m\u001B[0;34m)\u001B[0m\u001B[0;34m\u001B[0m\u001B[0;34m\u001B[0m\u001B[0m\n\u001B[1;32m    275\u001B[0m         \u001B[0;32mexcept\u001B[0m \u001B[0mAttributeError\u001B[0m\u001B[0;34m:\u001B[0m\u001B[0;34m\u001B[0m\u001B[0;34m\u001B[0m\u001B[0m\n",
      "\u001B[0;31mKeyboardInterrupt\u001B[0m: "
     ]
    }
   ],
   "source": [
    "ns = [10**i for i in range(2, 10)]\n",
    "times = {k: {} for k in [3, 4, 5]}\n",
    "\n",
    "for n in ns:\n",
    "    # To have connected graphs\n",
    "    G1 = nx.fast_gnp_random_graph(n, p=1.1 * np.log(n)/n)\n",
    "    G2 = nx.fast_gnp_random_graph(n, p=1.1 * np.log(n)/n)\n",
    "    for k in [3, 4, 5]:\n",
    "\n",
    "        start = time.process_time_ns()\n",
    "        kernel(G1, G2, k, 0.05, 0.05)\n",
    "        stop = time.process_time_ns()\n",
    "\n",
    "        times[k][n] = (stop - start) / 1e9\n",
    "        print(f'Time (k={k}, n={n}) : {(stop - start) / 1e9:.4f}')\n",
    "\n",
    "with open('times_kernel.json', 'w') as fp:\n",
    "    json.dump(times, fp)"
   ],
   "metadata": {
    "collapsed": false,
    "pycharm": {
     "name": "#%%\n"
    }
   }
  },
  {
   "cell_type": "markdown",
   "source": [
    "### Comparison of spectrum with NetworkX"
   ],
   "metadata": {
    "collapsed": false,
    "pycharm": {
     "name": "#%% md\n"
    }
   }
  },
  {
   "cell_type": "code",
   "execution_count": null,
   "outputs": [],
   "source": [],
   "metadata": {
    "collapsed": false,
    "pycharm": {
     "name": "#%%\n"
    }
   }
  }
 ],
 "metadata": {
  "kernelspec": {
   "display_name": "Python 3",
   "language": "python",
   "name": "python3"
  },
  "language_info": {
   "codemirror_mode": {
    "name": "ipython",
    "version": 3
   },
   "file_extension": ".py",
   "mimetype": "text/x-python",
   "name": "python",
   "nbconvert_exporter": "python",
   "pygments_lexer": "ipython3",
   "version": "3.8.3"
  }
 },
 "nbformat": 4,
 "nbformat_minor": 1
}