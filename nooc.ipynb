{
 "cells": [
  {
   "cell_type": "code",
   "execution_count": 2,
   "outputs": [],
   "source": [
    "import networkx as nx\n",
    "import numpy as np"
   ],
   "metadata": {
    "collapsed": false,
    "pycharm": {
     "name": "#%%\n"
    }
   }
  },
  {
   "cell_type": "code",
   "execution_count": 10,
   "outputs": [],
   "source": [
    "def nb_samples_required(a, delta, epsilon):\n",
    "    return int(np.ceil(2 * (np.log(2) * a + np.log(1 / delta)) / (epsilon**2)))"
   ],
   "metadata": {
    "collapsed": false,
    "pycharm": {
     "name": "#%%\n"
    }
   }
  },
  {
   "cell_type": "code",
   "execution_count": 21,
   "outputs": [],
   "source": [
    "# Create all graphlets of size 3, 4, 5\n",
    "def build_graphlets(k):\n",
    "    if k == 3:\n",
    "        graphlets = [\n",
    "            np.zeros((3, 3)),\n",
    "            np.array([[0, 1, 0], [1, 0, 0], [0, 0, 0]]),\n",
    "            np.array([[0, 1, 0], [1, 0, 1], [0, 1, 0]]),\n",
    "            np.array([[0, 1, 0], [0, 0, 1], [1, 0, 0]])\n",
    "        ]\n",
    "        return [nx.from_numpy_matrix(m) for m in graphlets]"
   ],
   "metadata": {
    "collapsed": false,
    "pycharm": {
     "name": "#%%\n"
    }
   }
  },
  {
   "cell_type": "code",
   "execution_count": 5,
   "outputs": [],
   "source": [
    "def sample_subgraphs(G, k):\n",
    "    nodes = G.nodes()\n",
    "\n",
    "    return G.subgraph(np.random.choice(nodes, k, replace=False).tolist())"
   ],
   "metadata": {
    "collapsed": false,
    "pycharm": {
     "name": "#%%\n"
    }
   }
  },
  {
   "cell_type": "code",
   "execution_count": 25,
   "outputs": [],
   "source": [
    "def find_iso_graphlet(subgraph, graphlets, spectrum):\n",
    "    for i, graphlet in enumerate(graphlets):\n",
    "        if nx.is_isomorphic(subgraph, graphlet):\n",
    "            spectrum[i] += 1"
   ],
   "metadata": {
    "collapsed": false,
    "pycharm": {
     "name": "#%%\n"
    }
   }
  },
  {
   "cell_type": "code",
   "execution_count": 30,
   "outputs": [],
   "source": [
    "def estimate_spectrum(G, k, delta, epsilon):\n",
    "    graphlets = build_graphlets(k)\n",
    "    m = nb_samples_required(len(graphlets), delta, epsilon)\n",
    "    spectrum = np.zeros(len(graphlets))\n",
    "\n",
    "    for _ in range(m):\n",
    "        subgraph = sample_subgraphs(G, k)\n",
    "        find_iso_graphlet(subgraph, graphlets, spectrum)\n",
    "\n",
    "    #return spectrum / np.linalg.norm(spectrum) # to sum to 1 for kernel(G, G)\n",
    "    return spectrum / m"
   ],
   "metadata": {
    "collapsed": false,
    "pycharm": {
     "name": "#%%\n"
    }
   }
  },
  {
   "cell_type": "code",
   "execution_count": 8,
   "outputs": [],
   "source": [
    "def kernel(G1, G2, k, delta, epsilon):\n",
    "    spectrum1 = estimate_spectrum(G1, k, delta, epsilon)\n",
    "    spectrum2 = estimate_spectrum(G2, k, delta, epsilon)\n",
    "\n",
    "    return spectrum1.T @ spectrum2"
   ],
   "metadata": {
    "collapsed": false,
    "pycharm": {
     "name": "#%%\n"
    }
   }
  },
  {
   "cell_type": "code",
   "execution_count": 31,
   "outputs": [],
   "source": [
    "G = nx.fast_gnp_random_graph(100, 0.1)\n",
    "\n",
    "spectrum = estimate_spectrum(G, 3, 0.05, 0.05)"
   ],
   "metadata": {
    "collapsed": false,
    "pycharm": {
     "name": "#%%\n"
    }
   }
  },
  {
   "cell_type": "code",
   "execution_count": 32,
   "outputs": [
    {
     "data": {
      "text/plain": "array([0.94863033, 0.3150888 , 0.02859347, 0.00140164])"
     },
     "execution_count": 32,
     "metadata": {},
     "output_type": "execute_result"
    }
   ],
   "source": [
    "spectrum"
   ],
   "metadata": {
    "collapsed": false,
    "pycharm": {
     "name": "#%%\n"
    }
   }
  },
  {
   "cell_type": "code",
   "execution_count": 33,
   "outputs": [
    {
     "data": {
      "text/plain": "0.9997956917241628"
     },
     "execution_count": 33,
     "metadata": {},
     "output_type": "execute_result"
    }
   ],
   "source": [
    "kernel(G, G, 3, 0.05, 0.05)"
   ],
   "metadata": {
    "collapsed": false,
    "pycharm": {
     "name": "#%%\n"
    }
   }
  },
  {
   "cell_type": "code",
   "execution_count": null,
   "outputs": [],
   "source": [],
   "metadata": {
    "collapsed": false,
    "pycharm": {
     "name": "#%%\n"
    }
   }
  }
 ],
 "metadata": {
  "kernelspec": {
   "display_name": "Python 3",
   "language": "python",
   "name": "python3"
  },
  "language_info": {
   "codemirror_mode": {
    "name": "ipython",
    "version": 2
   },
   "file_extension": ".py",
   "mimetype": "text/x-python",
   "name": "python",
   "nbconvert_exporter": "python",
   "pygments_lexer": "ipython2",
   "version": "2.7.6"
  }
 },
 "nbformat": 4,
 "nbformat_minor": 0
}